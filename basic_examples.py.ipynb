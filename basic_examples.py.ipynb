{
 "cells": [
  {
   "cell_type": "code",
   "execution_count": 2,
   "metadata": {},
   "outputs": [
    {
     "name": "stdout",
     "output_type": "stream",
     "text": [
      "1 - demonstrating for loop \n",
      "0\n",
      "1\n",
      "2\n",
      "3\n",
      "4\n"
     ]
    }
   ],
   "source": [
    "print (\"1 - demonstrating for loop \")\n",
    "\n",
    "for i in range(0,5):\n",
    "    print i"
   ]
  },
  {
   "cell_type": "code",
   "execution_count": 4,
   "metadata": {},
   "outputs": [
    {
     "name": "stdout",
     "output_type": "stream",
     "text": [
      "0  x  0  =  0\n",
      "0  x  1  =  0\n",
      "0  x  2  =  0\n",
      "0  x  3  =  0\n",
      "0  x  4  =  0\n",
      "1  x  0  =  0\n",
      "1  x  1  =  1\n",
      "1  x  2  =  2\n",
      "1  x  3  =  3\n",
      "1  x  4  =  4\n",
      "2  x  0  =  0\n",
      "2  x  1  =  2\n",
      "2  x  2  =  4\n",
      "2  x  3  =  6\n",
      "2  x  4  =  8\n",
      "3  x  0  =  0\n",
      "3  x  1  =  3\n",
      "3  x  2  =  6\n",
      "3  x  3  =  9\n",
      "3  x  4  =  12\n",
      "4  x  0  =  0\n",
      "4  x  1  =  4\n",
      "4  x  2  =  8\n",
      "4  x  3  =  12\n",
      "4  x  4  =  16\n"
     ]
    }
   ],
   "source": [
    "for left_num in range(5):\n",
    "    for right_num in range(5):\n",
    "        product = left_num * right_num\n",
    "        print left_num, \" x \", right_num, \" = \", product"
   ]
  },
  {
   "cell_type": "code",
   "execution_count": 10,
   "metadata": {},
   "outputs": [
    {
     "name": "stdout",
     "output_type": "stream",
     "text": [
      "my_list is: [1, 2, 3, 'a', 'b', 'c']\n"
     ]
    }
   ],
   "source": [
    "my_list = [1, 2, 3, \"a\", \"b\", \"c\"]\n",
    "print \"my_list is:\", my_list\n"
   ]
  },
  {
   "cell_type": "code",
   "execution_count": 12,
   "metadata": {},
   "outputs": [
    {
     "name": "stdout",
     "output_type": "stream",
     "text": [
      "enumerating over a list: \n",
      "item number  0  is  1\n",
      "item number  1  is  2\n",
      "item number  2  is  3\n",
      "item number  3  is  a\n",
      "item number  4  is  b\n",
      "item number  5  is  c\n"
     ]
    }
   ],
   "source": [
    "print \"enumerating over a list: \"\n",
    "\n",
    "for i, item in enumerate(my_list):\n",
    "    print \"item number \", i, \" is \", item\n",
    "\n"
   ]
  },
  {
   "cell_type": "code",
   "execution_count": 16,
   "metadata": {},
   "outputs": [
    {
     "name": "stdout",
     "output_type": "stream",
     "text": [
      " another way to enumerate over a list\n",
      "0  list item  1\n",
      "1  list item  2\n",
      "2  list item  3\n",
      "3  list item  a\n",
      "4  list item  b\n",
      "5  list item  c\n"
     ]
    }
   ],
   "source": [
    "print \" another way to enumerate over a list\" \n",
    "\n",
    "for item in my_list:\n",
    "    index = my_list.index(item)\n",
    "    print index, \" list item \", item\n"
   ]
  },
  {
   "cell_type": "code",
   "execution_count": 19,
   "metadata": {},
   "outputs": [
    {
     "name": "stdout",
     "output_type": "stream",
     "text": [
      " number  99 is in position  2\n"
     ]
    }
   ],
   "source": [
    "test_list = [34,4,99,14,7,2]\n",
    "number = 99\n",
    "get_index = test_list.index(number)\n",
    "\n",
    "print \" number \", number, \"is in position \", get_index\n"
   ]
  },
  {
   "cell_type": "code",
   "execution_count": 21,
   "metadata": {},
   "outputs": [
    {
     "name": "stdout",
     "output_type": "stream",
     "text": [
      "[0, 1, 2, 3, 4, 5, 6, 7, 8, 9]\n"
     ]
    }
   ],
   "source": [
    "numbers_0_to_9 = [x for x in range(10)]\n",
    "print numbers_0_to_9\n"
   ]
  },
  {
   "cell_type": "code",
   "execution_count": 23,
   "metadata": {},
   "outputs": [
    {
     "name": "stdout",
     "output_type": "stream",
     "text": [
      "[0, 1, 4, 9, 16, 25, 36, 49, 64, 81]\n"
     ]
    }
   ],
   "source": [
    "squares = [x * x for x in numbers_0_to_9]\n",
    "print squares"
   ]
  },
  {
   "cell_type": "code",
   "execution_count": 25,
   "metadata": {},
   "outputs": [
    {
     "name": "stdout",
     "output_type": "stream",
     "text": [
      "[0, 2, 4, 6, 8]\n"
     ]
    }
   ],
   "source": [
    "odd_nums = [ x for x in numbers_0_to_9 if x % 2 == 0 ]\n",
    "print odd_nums\n"
   ]
  },
  {
   "cell_type": "markdown",
   "metadata": {},
   "source": [
    "# advanced list Comprehensions"
   ]
  },
  {
   "cell_type": "code",
   "execution_count": 27,
   "metadata": {
    "collapsed": true
   },
   "outputs": [],
   "source": [
    "from collections import namedtuple"
   ]
  },
  {
   "cell_type": "code",
   "execution_count": 28,
   "metadata": {},
   "outputs": [
    {
     "name": "stdout",
     "output_type": "stream",
     "text": [
      "('name: ', 'Peter')\n",
      "age:   30\n",
      "gender:   m\n"
     ]
    }
   ],
   "source": [
    "Person = namedtuple(\"Person\", [\"name\", \"age\", \"gender\"])\n",
    "\n",
    "\n",
    "people = [\n",
    "    Person(\"Andy\", 30, \"m\"),\n",
    "    Person(\"Peter\", 30, \"m\"),\n",
    "    Person(\"Amy\", 22, \"f\"),\n",
    "    Person(\"Emmy\", 24, \"f\")\n",
    "]\n",
    "\n",
    "\n",
    "peter = people[1]\n",
    "\n",
    "\n",
    "print \"name: \", peter.name\n",
    "print \"age:  \", peter.age\n",
    "print \"gender:  \", peter.gender"
   ]
  },
  {
   "cell_type": "code",
   "execution_count": 29,
   "metadata": {
    "collapsed": true
   },
   "outputs": [],
   "source": [
    "male_names  = [person.name for person in people if person.gender == 'm']"
   ]
  },
  {
   "cell_type": "code",
   "execution_count": 30,
   "metadata": {},
   "outputs": [
    {
     "data": {
      "text/plain": [
       "['Andy', 'Peter']"
      ]
     },
     "execution_count": 30,
     "metadata": {},
     "output_type": "execute_result"
    }
   ],
   "source": [
    "male_names\n"
   ]
  },
  {
   "cell_type": "code",
   "execution_count": 33,
   "metadata": {},
   "outputs": [
    {
     "name": "stdout",
     "output_type": "stream",
     "text": [
      "['Amy', 'Emmy']\n"
     ]
    }
   ],
   "source": [
    "young = [person.name for person in people if person.age < 30]\n",
    "print young"
   ]
  },
  {
   "cell_type": "markdown",
   "metadata": {},
   "source": [
    "# random library"
   ]
  },
  {
   "cell_type": "code",
   "execution_count": 34,
   "metadata": {
    "collapsed": true
   },
   "outputs": [],
   "source": [
    "import random as rd"
   ]
  },
  {
   "cell_type": "code",
   "execution_count": 38,
   "metadata": {},
   "outputs": [
    {
     "name": "stdout",
     "output_type": "stream",
     "text": [
      "a is:  0.568040547512\n",
      "b is:  0.953185555524\n",
      "c is:  0.583728261605\n"
     ]
    }
   ],
   "source": [
    "a = rd.random()\n",
    "b = rd.random()\n",
    "c = rd.random()\n",
    "\n",
    "\n",
    "print \"a is: \", a\n",
    "print \"b is: \", b\n",
    "print \"c is: \", c"
   ]
  },
  {
   "cell_type": "code",
   "execution_count": null,
   "metadata": {
    "collapsed": true
   },
   "outputs": [],
   "source": []
  },
  {
   "cell_type": "code",
   "execution_count": 51,
   "metadata": {},
   "outputs": [
    {
     "name": "stdout",
     "output_type": "stream",
     "text": [
      "In 10000 , 4968 were heads and 5032 were tails\n",
      "Percent:  49.0\n"
     ]
    }
   ],
   "source": [
    "import random as rd \n",
    "\n",
    "\n",
    "num_trials = 10000\n",
    "heads = 0\n",
    "tails = 0\n",
    "p_heads = .50\n",
    "\n",
    "for i in range(num_trials):\n",
    "    random_number = rd.random()\n",
    "    if random_number < p_heads:\n",
    "        heads = heads + 1\n",
    "    else:\n",
    "        tails += 1\n",
    "\n",
    "print \"In {0} , {1} were heads and {2} were tails\".format(str(num_trials), str(heads), str(tails))\n",
    "\n",
    "print \"Percent: \", float((100 * heads/num_trials))"
   ]
  },
  {
   "cell_type": "code",
   "execution_count": 56,
   "metadata": {},
   "outputs": [
    {
     "name": "stdout",
     "output_type": "stream",
     "text": [
      "1 came up 1673 times\n",
      "2 came up 1664 times\n",
      "3 came up 1660 times\n",
      "4 came up 1660 times\n",
      "5 came up 1662 times\n",
      "6 came up 1681 times\n"
     ]
    }
   ],
   "source": [
    "### simulating dice rolls\n",
    "import random as rd \n",
    "\n",
    "def simulate_dice_rolls(N):\n",
    "    roll_counts = [0,0,0,0,0,0]\n",
    "    for i in range(N):\n",
    "        roll = rd.choice([1,2,3,4,5,6])\n",
    "        index = roll - 1\n",
    "        roll_counts[index] = roll_counts[index] + 1\n",
    "    return roll_counts\n",
    "\n",
    "def show_roll_data(roll_counts):\n",
    "    number_of_sides_on_die = len(roll_counts)\n",
    "    for i in range(number_of_sides_on_die):\n",
    "        number_of_rolls = roll_counts[i]\n",
    "        number_on_die = i+1\n",
    "        print number_on_die, \"came up\", number_of_rolls, \"times\"\n",
    "        \n",
    "roll_data = simulate_dice_rolls(10000)\n",
    "show_roll_data(roll_data)"
   ]
  },
  {
   "cell_type": "raw",
   "metadata": {},
   "source": []
  },
  {
   "cell_type": "code",
   "execution_count": null,
   "metadata": {
    "collapsed": true
   },
   "outputs": [],
   "source": []
  }
 ],
 "metadata": {
  "kernelspec": {
   "display_name": "Python 2",
   "language": "python",
   "name": "python2"
  },
  "language_info": {
   "codemirror_mode": {
    "name": "ipython",
    "version": 2
   },
   "file_extension": ".py",
   "mimetype": "text/x-python",
   "name": "python",
   "nbconvert_exporter": "python",
   "pygments_lexer": "ipython2",
   "version": "2.7.13"
  }
 },
 "nbformat": 4,
 "nbformat_minor": 2
}
